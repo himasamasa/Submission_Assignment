{
 "cells": [
  {
   "cell_type": "code",
   "execution_count": 1,
   "id": "6ad44d1f",
   "metadata": {},
   "outputs": [],
   "source": [
    "import numpy as np\n",
    "import pandas as pd\n",
    "import collections\n",
    "import matplotlib.pyplot as plt"
   ]
  },
  {
   "cell_type": "markdown",
   "id": "e479d55e",
   "metadata": {},
   "source": [
    "# 問題1　不純度を求める関数"
   ]
  },
  {
   "cell_type": "code",
   "execution_count": 2,
   "id": "d8addc07",
   "metadata": {},
   "outputs": [
    {
     "data": {
      "text/plain": [
       "array([1, 1, 2, 2, 2])"
      ]
     },
     "execution_count": 2,
     "metadata": {},
     "output_type": "execute_result"
    }
   ],
   "source": [
    "a = np.array([1,1,2,2,2])\n",
    "a"
   ]
  },
  {
   "cell_type": "code",
   "execution_count": 3,
   "id": "ed0e8db3",
   "metadata": {},
   "outputs": [
    {
     "name": "stdout",
     "output_type": "stream",
     "text": [
      "unique [1 2] unique_counts [2 3]\n"
     ]
    }
   ],
   "source": [
    "u,counts = np.unique(a, return_counts=True)\n",
    "print('unique',u,'unique_counts',counts)"
   ]
  },
  {
   "cell_type": "code",
   "execution_count": 4,
   "id": "a947e167",
   "metadata": {},
   "outputs": [
    {
     "data": {
      "text/plain": [
       "array([False,  True])"
      ]
     },
     "execution_count": 4,
     "metadata": {},
     "output_type": "execute_result"
    }
   ],
   "source": [
    "u==2"
   ]
  },
  {
   "cell_type": "code",
   "execution_count": 5,
   "id": "f3859b4a",
   "metadata": {},
   "outputs": [
    {
     "data": {
      "text/plain": [
       "array([3], dtype=int64)"
      ]
     },
     "execution_count": 5,
     "metadata": {},
     "output_type": "execute_result"
    }
   ],
   "source": [
    "counts[u==2]"
   ]
  },
  {
   "cell_type": "code",
   "execution_count": 6,
   "id": "5c1036f0",
   "metadata": {},
   "outputs": [
    {
     "data": {
      "text/plain": [
       "5"
      ]
     },
     "execution_count": 6,
     "metadata": {},
     "output_type": "execute_result"
    }
   ],
   "source": [
    "np.sum(counts)"
   ]
  },
  {
   "cell_type": "code",
   "execution_count": 7,
   "id": "2cbc14e5",
   "metadata": {},
   "outputs": [],
   "source": [
    "def calc_gini(y):\n",
    "    labels, counts = np.unique(y, return_counts=True)\n",
    "    _gini = 0\n",
    "    for label in labels:\n",
    "        _gini += (counts[labels==label]/np.sum(counts))**2\n",
    "    gini = 1 - _gini\n",
    "    return gini"
   ]
  },
  {
   "cell_type": "code",
   "execution_count": 8,
   "id": "cf32a546",
   "metadata": {},
   "outputs": [
    {
     "name": "stdout",
     "output_type": "stream",
     "text": [
      "threshold_value [-1  0  1  2  4]\n"
     ]
    }
   ],
   "source": [
    "X = np.array([0,2,1,-1,4])\n",
    "y = np.array([0,0,0,1,1])\n",
    "threshold_value = np.unique(X)\n",
    "print('threshold_value',threshold_value)"
   ]
  },
  {
   "cell_type": "code",
   "execution_count": 9,
   "id": "ab8cd36b",
   "metadata": {},
   "outputs": [
    {
     "name": "stdout",
     "output_type": "stream",
     "text": [
      "unique [0 1] unique_counts [3 2]\n"
     ]
    }
   ],
   "source": [
    "# ラベル値による分類\n",
    "u,counts = np.unique(y,return_counts=True)\n",
    "print('unique',u,'unique_counts',counts)"
   ]
  },
  {
   "cell_type": "code",
   "execution_count": 10,
   "id": "25dd339c",
   "metadata": {},
   "outputs": [
    {
     "name": "stdout",
     "output_type": "stream",
     "text": [
      "0 c1 [1] c2 [0 0 0 1]\n",
      "0 gini_left: [0.] gini_right: [0.375]\n",
      "1 c1 [0 1] c2 [0 0 1]\n",
      "1 gini_left: [0.5] gini_right: [0.44444444]\n",
      "2 c1 [0 0 1] c2 [0 1]\n",
      "2 gini_left: [0.44444444] gini_right: [0.5]\n",
      "4 c1 [0 0 0 1] c2 [1]\n",
      "4 gini_left: [0.375] gini_right: [0.]\n"
     ]
    }
   ],
   "source": [
    "# 各しきい値におけるジニ不純物の計算\n",
    "for i in threshold_value[1:]:\n",
    "    c1 = y[X < i]\n",
    "    c2 = y[X >=i]\n",
    "    \n",
    "    print(i,'c1',c1,'c2',c2)\n",
    "    print(i,'gini_left:',calc_gini(c1),'gini_right:',calc_gini(c2))"
   ]
  },
  {
   "cell_type": "markdown",
   "id": "b77705ef",
   "metadata": {},
   "source": [
    "# 問題2　情報利得を求める関数"
   ]
  },
  {
   "cell_type": "code",
   "execution_count": 11,
   "id": "b2a79373",
   "metadata": {},
   "outputs": [
    {
     "data": {
      "text/plain": [
       "0.14319526627218937"
      ]
     },
     "execution_count": 11,
     "metadata": {},
     "output_type": "execute_result"
    }
   ],
   "source": [
    "'''\n",
    "左ノードクラス1 : サンプル数10\n",
    "左ノードクラス2 : サンプル数30\n",
    "右ノードクラス1 : サンプル数20\n",
    "右ノードクラス2 : サンプル数5\n",
    "→ 情報利得0.143\n",
    "'''\n",
    "a = 40/65 * (1-(0.25**2 + 0.75**2))\n",
    "b = 25/65 * (1- (0.8**2 + 0.2**2))\n",
    "c = 1- ((30/65)**2 + (35/65)**2)\n",
    "d = c-a-b\n",
    "d"
   ]
  },
  {
   "cell_type": "markdown",
   "id": "5c53e751",
   "metadata": {},
   "source": [
    "## 明日聞く"
   ]
  },
  {
   "cell_type": "code",
   "execution_count": 12,
   "id": "994b4e10",
   "metadata": {},
   "outputs": [],
   "source": [
    "def calc_ig(X, y, threshold):\n",
    "    labels_l = y[X[:] < threshold]\n",
    "    labels_r = y[X[:] >= threshold]\n",
    "    gain_l = (len(labels_l)/(len(labels_l)+len(labels_r)))*calc_gini(labels_l)\n",
    "    gain_r = (len(labels_r)/(len(labels_l)+len(labels_r)))*calc_gini(labels_r)\n",
    "    # なぜ例題ではcalc_gini(X)になっているのか？\n",
    "    gain = calc_gini(y) - gain_l - gain_r\n",
    "    return gain"
   ]
  },
  {
   "cell_type": "code",
   "execution_count": 13,
   "id": "bec5002c",
   "metadata": {},
   "outputs": [
    {
     "name": "stdout",
     "output_type": "stream",
     "text": [
      "threshold_value [-1  0  1  2  4]\n"
     ]
    }
   ],
   "source": [
    "X = np.array([0,2,1,-1,4])\n",
    "y = np.array([0,0,0,1,1])\n",
    "threshold_value = np.unique(X)\n",
    "print('threshold_value',threshold_value)"
   ]
  },
  {
   "cell_type": "code",
   "execution_count": 14,
   "id": "49f637d0",
   "metadata": {},
   "outputs": [
    {
     "data": {
      "text/plain": [
       "array([ 0,  2,  1, -1,  4])"
      ]
     },
     "execution_count": 14,
     "metadata": {},
     "output_type": "execute_result"
    }
   ],
   "source": [
    "X[:,]"
   ]
  },
  {
   "cell_type": "code",
   "execution_count": 15,
   "id": "8c546387",
   "metadata": {},
   "outputs": [
    {
     "data": {
      "text/plain": [
       "array([1])"
      ]
     },
     "execution_count": 15,
     "metadata": {},
     "output_type": "execute_result"
    }
   ],
   "source": [
    "y[X[:,]<0]"
   ]
  },
  {
   "cell_type": "code",
   "execution_count": 16,
   "id": "e21700dd",
   "metadata": {},
   "outputs": [
    {
     "name": "stdout",
     "output_type": "stream",
     "text": [
      "0 [0.18]\n",
      "1 [0.01333333]\n",
      "2 [0.01333333]\n",
      "4 [0.18]\n"
     ]
    }
   ],
   "source": [
    "for i in threshold_value[1:]:\n",
    "    print(i,calc_ig(X,y,i))"
   ]
  },
  {
   "cell_type": "code",
   "execution_count": null,
   "id": "e0cdaefc",
   "metadata": {},
   "outputs": [],
   "source": []
  },
  {
   "cell_type": "markdown",
   "id": "027e7708",
   "metadata": {},
   "source": [
    "# 問題3　学習"
   ]
  },
  {
   "cell_type": "code",
   "execution_count": 17,
   "id": "8849510d",
   "metadata": {},
   "outputs": [],
   "source": [
    "# クラスに書き加える関数\n",
    "def fit(self, X, y):\n",
    "    \"\"\"\n",
    "    決定木分類器を学習する\n",
    "    Parameters\n",
    "    ----------\n",
    "    X : 次の形のndarray, shape (n_samples, n_features)\n",
    "        訓練データの特徴量\n",
    "    y : 次の形のndarray, shape (n_samples, )\n",
    "        訓練データの正解値\n",
    "    \"\"\"\n",
    "    self.gain = 0\n",
    "    for feature_index in range(X.shape[1]):\n",
    "        self.thresholds = np.unique(X[:,feature_index])\n",
    "        for threshold in self.thresholds:\n",
    "            _gain = self._calc_ig(X,feature_index,y,threshold)\n",
    "            if _gain > self.gain:\n",
    "                self.l_label = collections.Counter(y[X[:,feature_index] < threshold]).most_common()[0][0]\n",
    "                self.r_label = collections.Counter(y[X[:,feature_index] >= threshold]).most_common()[0][0]\n",
    "                self.feature = feature_index\n",
    "                self.threshold = threshold\n",
    "                self.gain = _gain\n",
    "                if self.verbose:\n",
    "                    print('feature', self.feature, 'threshold', self.threshold, 'gain', self.gain)"
   ]
  },
  {
   "cell_type": "code",
   "execution_count": 18,
   "id": "13fbc07c",
   "metadata": {},
   "outputs": [],
   "source": [
    "# Sample data 2\n",
    "X = np.array([[-0.44699 , -2.8073  ],[-1.4621  , -2.4586  ],\n",
    "              [ 0.10645 ,  1.9242  ],[-3.5944  , -4.0112  ],\n",
    "              [-0.9888  ,  4.5718  ],[-3.1625  , -3.9606  ],\n",
    "              [ 0.56421 ,  0.72888 ],[-0.60216 ,  8.4636  ],\n",
    "              [-0.61251 , -0.75345 ],[-0.73535 , -2.2718  ],\n",
    "              [-0.80647 , -2.2135  ],[ 0.86291 ,  2.3946  ],\n",
    "              [-3.1108  ,  0.15394 ],[-2.9362  ,  2.5462  ],\n",
    "              [-0.57242 , -2.9915  ],[ 1.4771  ,  3.4896  ],\n",
    "              [ 0.58619 ,  0.37158 ],[ 0.6017  ,  4.3439  ],\n",
    "              [-2.1086  ,  8.3428  ],[-4.1013  , -4.353   ],\n",
    "              [-1.9948  , -1.3927  ],[ 0.35084 , -0.031994],\n",
    "              [ 0.96765 ,  7.8929  ],[-1.281   , 15.6824  ],\n",
    "              [ 0.96765 , 10.083   ],[ 1.3763  ,  1.3347  ],\n",
    "              [-2.234   , -2.5323  ],[-2.9452  , -1.8219  ],\n",
    "              [ 0.14654 , -0.28733 ],[ 0.5461  ,  5.8245  ],\n",
    "              [-0.65259 ,  9.3444  ],[ 0.59912 ,  5.3524  ],\n",
    "              [ 0.50214 , -0.31818 ],[-3.0603  , -3.6461  ],\n",
    "              [-6.6797  ,  0.67661 ],[-2.353   , -0.72261 ],\n",
    "              [ 1.1319  ,  2.4023  ],[-0.12243 ,  9.0162  ],\n",
    "              [-2.5677  , 13.1779  ],[ 0.057313,  5.4681  ]])\n",
    "\n",
    "y = np.array([0, 0, 0, 0, 0, 0, 0, 0, 0, 0, 0, 0, 0, 0, 0, 0, 0, 0, 0, 0,\n",
    "              1, 1,1, 1, 1, 1, 1, 1, 1, 1, 1, 1, 1, 1, 1, 1, 1, 1, 1, 1])"
   ]
  },
  {
   "cell_type": "code",
   "execution_count": 19,
   "id": "d713f1f0",
   "metadata": {},
   "outputs": [
    {
     "name": "stdout",
     "output_type": "stream",
     "text": [
      "(32, 2)\n",
      "(32,)\n",
      "(8, 2)\n",
      "(8,)\n"
     ]
    }
   ],
   "source": [
    "# トレーニング データと検証データに分割\n",
    "from sklearn.model_selection import train_test_split\n",
    "X_train, X_valid, y_train, y_valid = train_test_split(X,y,train_size=0.8,random_state=None)\n",
    "\n",
    "print(X_train.shape)\n",
    "print(y_train.shape)\n",
    "print(X_valid.shape)\n",
    "print(y_valid.shape)"
   ]
  },
  {
   "cell_type": "code",
   "execution_count": 20,
   "id": "2586404d",
   "metadata": {},
   "outputs": [],
   "source": [
    "def predict(self, X):\n",
    "    \"\"\"\n",
    "    決定木分類器を使いラベルを推定する\n",
    "    \"\"\"\n",
    "    prediction = np.where(X[:, self.feature] < self.threshold, self.l_label, self.r_label)\n",
    "    return prediction"
   ]
  },
  {
   "cell_type": "code",
   "execution_count": 21,
   "id": "b2be9e5a",
   "metadata": {},
   "outputs": [],
   "source": [
    "class ScratchDecesionTreeClassifierDepth1():\n",
    "    \"\"\"\n",
    "    深さ1の決定木分類器のスクラッチ実装\n",
    "\n",
    "    Parameters\n",
    "    ----------\n",
    "    verbose : bool\n",
    "      学習過程を出力する場合はTrue\n",
    "    \"\"\"\n",
    "\n",
    "    def __init__(self, verbose=False):\n",
    "        # ハイパーパラメータを属性として記録\n",
    "        self.verbose = verbose\n",
    "        \n",
    "    def _calc_gini(self, y):\n",
    "        labels, counts = np.unique(y, return_counts=True)\n",
    "        _gini = 0\n",
    "        for label in labels:\n",
    "            _gini += (counts[labels==label]/np.sum(counts))**2\n",
    "        gini = 1 - _gini\n",
    "        return gini\n",
    "        \n",
    "    def _calc_ig(self, X, feature_index, y, threshold):\n",
    "        labels_l = y[X[:,feature_index] < threshold]\n",
    "        labels_r = y[X[:,feature_index] >= threshold]\n",
    "        gain_l = (len(labels_l)/(len(labels_l)+len(labels_r))) * self._calc_gini(labels_l)\n",
    "        gain_r = (len(labels_r)/(len(labels_l)+len(labels_r))) * self._calc_gini(labels_r)\n",
    "        # なぜ例題ではcalc_gini(X)になっているのか？\n",
    "        gain = self._calc_gini(y) - gain_l - gain_r\n",
    "        return gain\n",
    "\n",
    "    def fit(self, X, y):\n",
    "        \"\"\"\n",
    "        決定木分類器を学習する\n",
    "        Parameters\n",
    "        ----------\n",
    "        X : 次の形のndarray, shape (n_samples, n_features)\n",
    "            訓練データの特徴量\n",
    "        y : 次の形のndarray, shape (n_samples, )\n",
    "            訓練データの正解値\n",
    "        \"\"\"\n",
    "        self.gain = 0\n",
    "        for feature_index in range(X.shape[1]):\n",
    "            self.thresholds = np.unique(X[:,feature_index])\n",
    "            for threshold in self.thresholds:\n",
    "                _gain = self._calc_ig(X,feature_index,y,threshold)\n",
    "                if _gain > self.gain:\n",
    "                    self.l_label = collections.Counter(y[X[:,feature_index] < threshold]).most_common()[0][0]\n",
    "                    self.r_label = collections.Counter(y[X[:,feature_index] >= threshold]).most_common()[0][0]\n",
    "                    self.feature = feature_index\n",
    "                    self.threshold = threshold\n",
    "                    self.gain = _gain\n",
    "                    if self.verbose:\n",
    "                        print('feature', self.feature, 'threshold', self.threshold, 'gain', self.gain)\n",
    "\n",
    "    def predict(self, X):\n",
    "        \"\"\"\n",
    "        決定木分類器を使いラベルを推定する\n",
    "        \"\"\"\n",
    "        prediction = np.where(X[:, self.feature] < self.threshold, self.l_label, self.r_label)\n",
    "        return prediction"
   ]
  },
  {
   "cell_type": "code",
   "execution_count": null,
   "id": "d1bf1c63",
   "metadata": {},
   "outputs": [],
   "source": []
  },
  {
   "cell_type": "code",
   "execution_count": 22,
   "id": "9fc6c292",
   "metadata": {},
   "outputs": [
    {
     "name": "stdout",
     "output_type": "stream",
     "text": [
      "feature 0 threshold -4.1013 gain [0.01417591]\n",
      "feature 0 threshold -2.1086 gain [0.01435122]\n",
      "feature 0 threshold -0.9888 gain [0.02200521]\n",
      "feature 0 threshold 0.96765 gain [0.02675058]\n",
      "feature 1 threshold -3.6461 gain [0.03763021]\n",
      "feature 1 threshold 5.3524 gain [0.04756378]\n"
     ]
    }
   ],
   "source": [
    "clf1 = ScratchDecesionTreeClassifierDepth1(verbose=True)\n",
    "clf1.fit(X_train,y_train)"
   ]
  },
  {
   "cell_type": "markdown",
   "id": "79a55e30",
   "metadata": {},
   "source": [
    "# 問題4　推定"
   ]
  },
  {
   "cell_type": "code",
   "execution_count": 23,
   "id": "d4a4b802",
   "metadata": {},
   "outputs": [],
   "source": [
    "y_pred = clf1.predict(X_valid)"
   ]
  },
  {
   "cell_type": "code",
   "execution_count": 24,
   "id": "0a39017a",
   "metadata": {},
   "outputs": [
    {
     "name": "stdout",
     "output_type": "stream",
     "text": [
      "[0 0 0 0 1 0 1 0]\n",
      "[1 0 0 0 1 0 1 0]\n"
     ]
    }
   ],
   "source": [
    "print(y_pred)\n",
    "print(y_valid)"
   ]
  },
  {
   "cell_type": "markdown",
   "id": "a2412e4e",
   "metadata": {},
   "source": [
    "# 問題5　学習と推定"
   ]
  },
  {
   "cell_type": "code",
   "execution_count": 25,
   "id": "55a5a206",
   "metadata": {},
   "outputs": [
    {
     "name": "stdout",
     "output_type": "stream",
     "text": [
      "accuracy 0.875\n",
      "precision 1.0\n",
      "recall 0.6666666666666666\n",
      "f1 0.8\n"
     ]
    }
   ],
   "source": [
    "# 評価指標\n",
    "from sklearn.metrics import accuracy_score\n",
    "from sklearn.metrics import precision_score\n",
    "from sklearn.metrics import recall_score\n",
    "from sklearn.metrics import f1_score\n",
    "\n",
    "accuracy = accuracy_score(y_valid, y_pred)\n",
    "precision = precision_score(y_valid, y_pred)\n",
    "recall = recall_score(y_valid, y_pred)\n",
    "f1 = f1_score(y_valid, y_pred)\n",
    "\n",
    "print('accuracy',accuracy)\n",
    "print('precision',precision)\n",
    "print('recall',recall)\n",
    "print('f1',f1)"
   ]
  },
  {
   "cell_type": "code",
   "execution_count": 26,
   "id": "caf6892f",
   "metadata": {},
   "outputs": [],
   "source": [
    "# 決定木\n",
    "from sklearn.tree import DecisionTreeClassifier\n",
    "\n",
    "clf2 = DecisionTreeClassifier(max_depth=1)\n",
    "\n",
    "clf2.fit(X_train,y_train)\n",
    "\n",
    "y_pred = clf2.predict(X_valid)"
   ]
  },
  {
   "cell_type": "code",
   "execution_count": 27,
   "id": "ebe1466f",
   "metadata": {},
   "outputs": [
    {
     "name": "stdout",
     "output_type": "stream",
     "text": [
      "[0 0 0 0 1 0 1 0]\n",
      "[1 0 0 0 1 0 1 0]\n"
     ]
    }
   ],
   "source": [
    "print(y_pred)\n",
    "print(y_valid)"
   ]
  },
  {
   "cell_type": "code",
   "execution_count": 28,
   "id": "62bce77f",
   "metadata": {},
   "outputs": [
    {
     "name": "stdout",
     "output_type": "stream",
     "text": [
      "accuracy 0.875\n",
      "precision 1.0\n",
      "recall 0.6666666666666666\n",
      "f1 0.8\n"
     ]
    }
   ],
   "source": [
    "# 評価指標\n",
    "from sklearn.metrics import accuracy_score\n",
    "from sklearn.metrics import precision_score\n",
    "from sklearn.metrics import recall_score\n",
    "from sklearn.metrics import f1_score\n",
    "\n",
    "accuracy = accuracy_score(y_valid, y_pred)\n",
    "precision = precision_score(y_valid, y_pred)\n",
    "recall = recall_score(y_valid, y_pred)\n",
    "f1 = f1_score(y_valid, y_pred)\n",
    "\n",
    "print('accuracy',accuracy)\n",
    "print('precision',precision)\n",
    "print('recall',recall)\n",
    "print('f1',f1)"
   ]
  },
  {
   "cell_type": "markdown",
   "id": "f612f58e",
   "metadata": {},
   "source": [
    "# 問題6　決定領域の可視化"
   ]
  },
  {
   "cell_type": "code",
   "execution_count": 29,
   "id": "eb9d144b",
   "metadata": {},
   "outputs": [],
   "source": [
    "# 決定領域の視覚化\n",
    "from matplotlib.colors import ListedColormap\n",
    "import matplotlib.patches as mpatches\n",
    "\n",
    "def decision_region(X,y,model,step=0.01,\n",
    "                    title='decision region', xlabel='xlabel', ylabel='ylabel',\n",
    "                    target_names=['versicolor', 'virginica']\n",
    "                   ):\n",
    "    \n",
    "    # setting\n",
    "    scatter_color = ['red', 'blue']\n",
    "    contourf_color = ['pink', 'skyblue']\n",
    "    n_class = 2\n",
    "    \n",
    "    # pred\n",
    "    mesh_f0, mesh_f1  = np.meshgrid(np.arange(np.min(X[:,0])-0.5, np.max(X[:,0])+0.5, step), np.arange(np.min(X[:,1])-0.5, np.max(X[:,1])+0.5, step))\n",
    "    mesh = np.c_[np.ravel(mesh_f0),np.ravel(mesh_f1)]\n",
    "    y_pred = model.predict(mesh).reshape(mesh_f0.shape)\n",
    "    \n",
    "    # plot\n",
    "    plt.title(title)\n",
    "    plt.xlabel(xlabel)\n",
    "    plt.ylabel(ylabel)\n",
    "    plt.contourf(mesh_f0, mesh_f1, y_pred, n_class-1, cmap=ListedColormap(contourf_color))\n",
    "    plt.contour(mesh_f0, mesh_f1, y_pred, n_class-1, colors='y', linewidths=3, alpha=0.5)\n",
    "    for i, target in enumerate(set(y)):\n",
    "        plt.scatter(X[y==target][:, 0], X[y==target][:, 1], s=80, color=scatter_color[i], label=target_names[i], marker='o')\n",
    "    patches = [mpatches.Patch(color=scatter_color[i], label=target_names[i]) for i in range(n_class)]\n",
    "    plt.legend(handles=patches)\n",
    "    plt.legend()\n",
    "    plt.show()"
   ]
  },
  {
   "cell_type": "code",
   "execution_count": 30,
   "id": "e078fd81",
   "metadata": {},
   "outputs": [
    {
     "data": {
      "image/png": "[encoded data removed]",
      "text/plain": [
       "<Figure size 1200x1200 with 1 Axes>"
      ]
     },
     "metadata": {},
     "output_type": "display_data"
    }
   ],
   "source": [
    "# スクラッチ決定木分類の結果\n",
    "fit,ax = plt.subplots(figsize=(12,12))\n",
    "plt.rcParams[\"font.size\"] = 20\n",
    "decision_region(X_train,y_train,clf1,target_names=['0', '1'],title='TRAIN')"
   ]
  },
  {
   "cell_type": "code",
   "execution_count": null,
   "id": "620b41cd",
   "metadata": {},
   "outputs": [],
   "source": []
  },
  {
   "cell_type": "markdown",
   "id": "01d787b0",
   "metadata": {},
   "source": [
    "# 問題7　深さ2の決定木分類器クラスの作成"
   ]
  },
  {
   "cell_type": "code",
   "execution_count": 31,
   "id": "3c491ee6",
   "metadata": {},
   "outputs": [],
   "source": [
    "class TreeNode():\n",
    "    def __init__(self, depth, verbose=None):\n",
    "        self.max_depth = depth\n",
    "        self.verbose = verbose\n",
    "        self.feature = None\n",
    "        \n",
    "    def _calc_gini(self, y):\n",
    "        labels, counts = np.unique(y, return_counts=True)\n",
    "        _gini = 0\n",
    "        for label in labels:\n",
    "            _gini += (counts[labels==label]/np.sum(counts))**2\n",
    "        gini = 1 - _gini\n",
    "        return gini\n",
    "        \n",
    "    def _calc_ig(self, X, feature_index, y, threshold):\n",
    "        labels_l = y[X[:,feature_index] < threshold]\n",
    "        labels_r = y[X[:,feature_index] >= threshold]\n",
    "        gain_l = (len(labels_l)/(len(labels_l)+len(labels_r))) * self._calc_gini(labels_l)\n",
    "        gain_r = (len(labels_r)/(len(labels_l)+len(labels_r))) * self._calc_gini(labels_r)\n",
    "        # なぜ例題ではcalc_gini(X)になっているのか？\n",
    "        gain = self._calc_gini(y) - gain_l - gain_r\n",
    "        return gain\n",
    "        \n",
    "    def fit(self, X, y, depth):\n",
    "        self.depth = depth\n",
    "        features = X.shape[1]\n",
    "        \n",
    "        # 分岐後、ジニ純度が0の場合、分岐終了\n",
    "        if len(np.unique(y))==1:\n",
    "            self.label = np.unique(y)[0]\n",
    "            return\n",
    "        \n",
    "        # 最大深度に達すると分岐が終了\n",
    "        if self.depth == self.max_depth:\n",
    "            self.label = collections.Counter(y).most_common()[0][0]\n",
    "            return\n",
    "        \n",
    "        self.gain = 0\n",
    "        for feature_index in range(X.shape[1]):\n",
    "            self.thresholds = np.unique(X[:,feature_index])\n",
    "            for threshold in self.thresholds:\n",
    "                _gain = self._calc_ig(X,feature_index,y,threshold)\n",
    "                if _gain > self.gain:\n",
    "                    self.l_label = collections.Counter(y[X[:,feature_index] < threshold]).most_common()[0][0]\n",
    "                    self.r_label = collections.Counter(y[X[:,feature_index] >= threshold]).most_common()[0][0]\n",
    "                    self.feature = feature_index\n",
    "                    self.threshold = threshold\n",
    "                    self.gain = _gain\n",
    "                    if self.verbose:\n",
    "                        print('depth', self.depth, 'feature', self.feature, 'threshold', self.threshold, 'gain', self.gain)\n",
    "        \n",
    "        # 左の子ノード\n",
    "        left_X = X[X[:,self.feature] < self.threshold]\n",
    "        left_y = y[X[:,self.feature] < self.threshold]\n",
    "        self.left_node = TreeNode(self.max_depth, self.verbose)\n",
    "        self.left_node.fit(left_X, left_y, depth+1)\n",
    "\n",
    "        # 右の子ノード\n",
    "        right_X = X[X[:,self.feature] >= self.threshold]\n",
    "        right_y = y[X[:,self.feature] >= self.threshold]\n",
    "        self.right_node = TreeNode(self.max_depth, self.verbose)\n",
    "        self.right_node.fit(right_X, right_y, depth+1)\n",
    "        \n",
    "    def predict(self, X):\n",
    "        if self.feature == None or self.depth == self.max_depth:\n",
    "            return self.label\n",
    "        \n",
    "        else:\n",
    "            if X[self.feature] < self.threshold:\n",
    "                return self.left_node.predict(X)\n",
    "            else:\n",
    "                return self.right_node.predict(X)"
   ]
  },
  {
   "cell_type": "code",
   "execution_count": 32,
   "id": "7e421798",
   "metadata": {},
   "outputs": [],
   "source": [
    "class ScratchDecesionTreeClassifierDepthN():\n",
    "    \"\"\"\n",
    "    深さ1の決定木分類器のスクラッチ実装\n",
    "\n",
    "    Parameters\n",
    "    ----------\n",
    "    verbose : bool\n",
    "      学習過程を出力する場合はTrue\n",
    "    \"\"\"\n",
    "\n",
    "    def __init__(self,max_depth=1, verbose=False):\n",
    "        # ハイパーパラメータを属性として記録\n",
    "        self.verbose = verbose\n",
    "        self.max_depth = max_depth\n",
    "        \n",
    "\n",
    "    def fit(self, X, y):\n",
    "        \"\"\"\n",
    "        決定木分類器を学習する\n",
    "        Parameters\n",
    "        ----------\n",
    "        X : 次の形のndarray, shape (n_samples, n_features)\n",
    "            訓練データの特徴量\n",
    "        y : 次の形のndarray, shape (n_samples, )\n",
    "            訓練データの正解値\n",
    "        \"\"\"\n",
    "        self.depth = 0\n",
    "        self.root = TreeNode(self.max_depth, self.verbose)\n",
    "        self.root.fit(X, y, self.depth)\n",
    "\n",
    "    def predict(self, X):\n",
    "        \"\"\"\n",
    "        決定木分類器を使いラベルを推定する\n",
    "        \"\"\"\n",
    "        y_pred = np.zeros(len(X))\n",
    "        \n",
    "        for i,x in enumerate(X):\n",
    "            y_pred[i] = self.root.predict(x)\n",
    "        return y_pred"
   ]
  },
  {
   "cell_type": "code",
   "execution_count": 33,
   "id": "a20400b4",
   "metadata": {},
   "outputs": [],
   "source": [
    "# スクラッチ決定木による深さ2の学習\n",
    "clf3 = ScratchDecesionTreeClassifierDepthN(max_depth=2,verbose=False)\n",
    "clf3.fit(X_train,y_train)"
   ]
  },
  {
   "cell_type": "code",
   "execution_count": 34,
   "id": "e23b1cd9",
   "metadata": {},
   "outputs": [
    {
     "name": "stdout",
     "output_type": "stream",
     "text": [
      "[1. 1. 1. 1. 0. 1. 0. 1.]\n"
     ]
    }
   ],
   "source": [
    "y_pred3 = clf3.predict(X_valid)\n",
    "print(y_pred3)"
   ]
  },
  {
   "cell_type": "code",
   "execution_count": 35,
   "id": "36c83907",
   "metadata": {},
   "outputs": [
    {
     "data": {
      "image/png": "[encoded data removed]",
      "text/plain": [
       "<Figure size 1200x1200 with 1 Axes>"
      ]
     },
     "metadata": {},
     "output_type": "display_data"
    }
   ],
   "source": [
    "# Scratch決定木の決定領域 (深さ 2)\n",
    "fit,ax = plt.subplots(figsize=(12,12))\n",
    "plt.rcParams[\"font.size\"] = 20\n",
    "decision_region(X_train,y_train,clf3,target_names=['0', '1'],title='TRAIN')"
   ]
  },
  {
   "cell_type": "code",
   "execution_count": null,
   "id": "8fb7b84e",
   "metadata": {},
   "outputs": [],
   "source": []
  },
  {
   "cell_type": "markdown",
   "id": "eb7f914f",
   "metadata": {},
   "source": [
    "# 問題8　深さに制限のない決定木分類器っクラスの作成"
   ]
  },
  {
   "cell_type": "code",
   "execution_count": null,
   "id": "5b887bc3",
   "metadata": {},
   "outputs": [],
   "source": [
    "# 分岐後、ジニ純度が0の場合、分岐終了\n",
    "\"\"\"\n",
    "if len(np.unique(y))==1:\n",
    "    self.label = np.unique(y)[0]\n",
    "    return\n",
    "\"\"\""
   ]
  },
  {
   "cell_type": "code",
   "execution_count": 36,
   "id": "766c5e76",
   "metadata": {},
   "outputs": [],
   "source": [
    "# スクラッチ決定木の学習 (深さ n)\n",
    "clf5 = ScratchDecesionTreeClassifierDepthN(max_depth=None,verbose=False)\n",
    "clf5.fit(X_train,y_train)"
   ]
  },
  {
   "cell_type": "code",
   "execution_count": 37,
   "id": "55ee22db",
   "metadata": {},
   "outputs": [
    {
     "name": "stdout",
     "output_type": "stream",
     "text": [
      "[0. 1. 1. 0. 0. 1. 0. 0.]\n"
     ]
    }
   ],
   "source": [
    "y_pred5 = clf5.predict(X_valid)\n",
    "print(y_pred5)"
   ]
  },
  {
   "cell_type": "code",
   "execution_count": 38,
   "id": "83bb7e95",
   "metadata": {},
   "outputs": [
    {
     "name": "stdout",
     "output_type": "stream",
     "text": [
      "accuracy 0.25\n",
      "precision 0.0\n",
      "recall 0.0\n",
      "f1 0.0\n"
     ]
    }
   ],
   "source": [
    "accuracy = accuracy_score(y_valid, y_pred5)\n",
    "precision = precision_score(y_valid, y_pred5)\n",
    "recall = recall_score(y_valid, y_pred5)\n",
    "f1 = f1_score(y_valid, y_pred5)\n",
    "\n",
    "print('accuracy',accuracy)\n",
    "print('precision',precision)\n",
    "print('recall',recall)\n",
    "print('f1',f1)"
   ]
  },
  {
   "cell_type": "code",
   "execution_count": 39,
   "id": "6153da08",
   "metadata": {},
   "outputs": [
    {
     "data": {
      "image/png": "[encoded data removed]",
      "text/plain": [
       "<Figure size 1200x1200 with 1 Axes>"
      ]
     },
     "metadata": {},
     "output_type": "display_data"
    }
   ],
   "source": [
    "# スクラッチ決定木の決定領域 (深さ n)\n",
    "fit,ax = plt.subplots(figsize=(12,12))\n",
    "plt.rcParams[\"font.size\"] = 20\n",
    "decision_region(X_train,y_train,clf5,target_names=['0', '1'],title='TRAIN')"
   ]
  },
  {
   "cell_type": "code",
   "execution_count": 40,
   "id": "c59278d0",
   "metadata": {},
   "outputs": [
    {
     "data": {
      "image/png": "[encoded data removed]",
      "text/plain": [
       "<Figure size 1200x1200 with 1 Axes>"
      ]
     },
     "metadata": {},
     "output_type": "display_data"
    }
   ],
   "source": [
    "# Sklearn決定木の決定領域 (深さ n)\n",
    "clf_sk = DecisionTreeClassifier(max_depth=None,random_state=None)\n",
    "clf_sk.fit(X_train,y_train)\n",
    "\n",
    "\n",
    "fit,ax = plt.subplots(figsize=(12,12))\n",
    "plt.rcParams[\"font.size\"] = 20\n",
    "decision_region(X_train,y_train,clf_sk,target_names=['0', '1'],title='TRAIN')"
   ]
  },
  {
   "cell_type": "code",
   "execution_count": null,
   "id": "f3e8b200",
   "metadata": {},
   "outputs": [],
   "source": []
  }
 ],
 "metadata": {
  "kernelspec": {
   "display_name": "Python 3 (ipykernel)",
   "language": "python",
   "name": "python3"
  },
  "language_info": {
   "codemirror_mode": {
    "name": "ipython",
    "version": 3
   },
   "file_extension": ".py",
   "mimetype": "text/x-python",
   "name": "python",
   "nbconvert_exporter": "python",
   "pygments_lexer": "ipython3",
   "version": "3.8.16"
  }
 },
 "nbformat": 4,
 "nbformat_minor": 5
}
